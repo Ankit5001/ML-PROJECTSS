{
 "cells": [
  {
   "cell_type": "code",
   "execution_count": 108,
   "id": "735885c6",
   "metadata": {},
   "outputs": [],
   "source": [
    "import pandas as pd \n",
    "import numpy as np\n",
    "import nltk"
   ]
  },
  {
   "cell_type": "code",
   "execution_count": 109,
   "id": "bb4b9329",
   "metadata": {},
   "outputs": [],
   "source": [
    "credits_df = pd.read_csv(r\"Data\\tmdb_5000_credits.csv\")\n",
    "movies_df = pd.read_csv(r'Data\\tmdb_5000_movies1.csv')"
   ]
  },
  {
   "cell_type": "markdown",
   "id": "292bb460",
   "metadata": {},
   "source": [
    "missing row\n",
    "1-->homepage\n",
    "2-->release\n",
    "3-->runtime\n",
    "4-->tagline"
   ]
  },
  {
   "cell_type": "code",
   "execution_count": 110,
   "id": "3234c397",
   "metadata": {},
   "outputs": [
    {
     "data": {
      "text/html": [
       "<div>\n",
       "<style scoped>\n",
       "    .dataframe tbody tr th:only-of-type {\n",
       "        vertical-align: middle;\n",
       "    }\n",
       "\n",
       "    .dataframe tbody tr th {\n",
       "        vertical-align: top;\n",
       "    }\n",
       "\n",
       "    .dataframe thead th {\n",
       "        text-align: right;\n",
       "    }\n",
       "</style>\n",
       "<table border=\"1\" class=\"dataframe\">\n",
       "  <thead>\n",
       "    <tr style=\"text-align: right;\">\n",
       "      <th></th>\n",
       "      <th>budget</th>\n",
       "      <th>genres</th>\n",
       "      <th>homepage</th>\n",
       "      <th>id</th>\n",
       "      <th>keywords</th>\n",
       "      <th>original_language</th>\n",
       "      <th>original_title</th>\n",
       "      <th>overview</th>\n",
       "      <th>popularity</th>\n",
       "      <th>production_companies</th>\n",
       "      <th>...</th>\n",
       "      <th>runtime</th>\n",
       "      <th>spoken_languages</th>\n",
       "      <th>status</th>\n",
       "      <th>tagline</th>\n",
       "      <th>title</th>\n",
       "      <th>vote_average</th>\n",
       "      <th>vote_count</th>\n",
       "      <th>movie_id</th>\n",
       "      <th>cast</th>\n",
       "      <th>crew</th>\n",
       "    </tr>\n",
       "  </thead>\n",
       "  <tbody>\n",
       "    <tr>\n",
       "      <th>2004</th>\n",
       "      <td>23000000</td>\n",
       "      <td>[{\"id\": 28, \"name\": \"Action\"}, {\"id\": 53, \"nam...</td>\n",
       "      <td>http://www.haywiremovie.com/</td>\n",
       "      <td>70435</td>\n",
       "      <td>[{\"id\": 3070, \"name\": \"mercenary\"}, {\"id\": 428...</td>\n",
       "      <td>en</td>\n",
       "      <td>Haywire</td>\n",
       "      <td>Mallory Kane is a highly trained operative who...</td>\n",
       "      <td>26.257951</td>\n",
       "      <td>[{\"name\": \"Irish Film Board\", \"id\": 5267}, {\"n...</td>\n",
       "      <td>...</td>\n",
       "      <td>93.0</td>\n",
       "      <td>[{\"iso_639_1\": \"en\", \"name\": \"English\"}, {\"iso...</td>\n",
       "      <td>Released</td>\n",
       "      <td>They left her no choice.</td>\n",
       "      <td>Haywire</td>\n",
       "      <td>5.6</td>\n",
       "      <td>505</td>\n",
       "      <td>70435</td>\n",
       "      <td>[{\"cast_id\": 6, \"character\": \"Mallory Kane\", \"...</td>\n",
       "      <td>[{\"credit_id\": \"52fe47f8c3a368484e0e32c5\", \"de...</td>\n",
       "    </tr>\n",
       "    <tr>\n",
       "      <th>3735</th>\n",
       "      <td>0</td>\n",
       "      <td>[{\"id\": 53, \"name\": \"Thriller\"}, {\"id\": 9648, ...</td>\n",
       "      <td>http://www.cargoderfilm.ch http://cargothemovi...</td>\n",
       "      <td>34069</td>\n",
       "      <td>[{\"id\": 3388, \"name\": \"space colony\"}, {\"id\": ...</td>\n",
       "      <td>de</td>\n",
       "      <td>Cargo</td>\n",
       "      <td>The story of CARGO takes place on rusty space-...</td>\n",
       "      <td>10.142218</td>\n",
       "      <td>[{\"name\": \"Telepool\", \"id\": 823}, {\"name\": \"At...</td>\n",
       "      <td>...</td>\n",
       "      <td>120.0</td>\n",
       "      <td>[{\"iso_639_1\": \"fr\", \"name\": \"Fran\\u00e7ais\"},...</td>\n",
       "      <td>Released</td>\n",
       "      <td>NaN</td>\n",
       "      <td>Cargo</td>\n",
       "      <td>5.9</td>\n",
       "      <td>140</td>\n",
       "      <td>34069</td>\n",
       "      <td>[{\"cast_id\": 4, \"character\": \"Samuel Decker\", ...</td>\n",
       "      <td>[{\"credit_id\": \"52fe454f9251416c9102e051\", \"de...</td>\n",
       "    </tr>\n",
       "    <tr>\n",
       "      <th>535</th>\n",
       "      <td>55000000</td>\n",
       "      <td>[{\"id\": 28, \"name\": \"Action\"}, {\"id\": 12, \"nam...</td>\n",
       "      <td>NaN</td>\n",
       "      <td>6520</td>\n",
       "      <td>[{\"id\": 3966, \"name\": \"camelot\"}, {\"id\": 10466...</td>\n",
       "      <td>en</td>\n",
       "      <td>First Knight</td>\n",
       "      <td>The timeless tale of King Arthur and the legen...</td>\n",
       "      <td>19.143321</td>\n",
       "      <td>[{\"name\": \"Columbia Pictures Corporation\", \"id...</td>\n",
       "      <td>...</td>\n",
       "      <td>134.0</td>\n",
       "      <td>[{\"iso_639_1\": \"en\", \"name\": \"English\"}, {\"iso...</td>\n",
       "      <td>Released</td>\n",
       "      <td>Their greatest battle would be for her love.</td>\n",
       "      <td>First Knight</td>\n",
       "      <td>5.9</td>\n",
       "      <td>311</td>\n",
       "      <td>6520</td>\n",
       "      <td>[{\"cast_id\": 1, \"character\": \"King Arthur\", \"c...</td>\n",
       "      <td>[{\"credit_id\": \"52fe4458c3a36847f8090709\", \"de...</td>\n",
       "    </tr>\n",
       "  </tbody>\n",
       "</table>\n",
       "<p>3 rows × 23 columns</p>\n",
       "</div>"
      ],
      "text/plain": [
       "        budget                                             genres  \\\n",
       "2004  23000000  [{\"id\": 28, \"name\": \"Action\"}, {\"id\": 53, \"nam...   \n",
       "3735         0  [{\"id\": 53, \"name\": \"Thriller\"}, {\"id\": 9648, ...   \n",
       "535   55000000  [{\"id\": 28, \"name\": \"Action\"}, {\"id\": 12, \"nam...   \n",
       "\n",
       "                                               homepage     id  \\\n",
       "2004                       http://www.haywiremovie.com/  70435   \n",
       "3735  http://www.cargoderfilm.ch http://cargothemovi...  34069   \n",
       "535                                                 NaN   6520   \n",
       "\n",
       "                                               keywords original_language  \\\n",
       "2004  [{\"id\": 3070, \"name\": \"mercenary\"}, {\"id\": 428...                en   \n",
       "3735  [{\"id\": 3388, \"name\": \"space colony\"}, {\"id\": ...                de   \n",
       "535   [{\"id\": 3966, \"name\": \"camelot\"}, {\"id\": 10466...                en   \n",
       "\n",
       "     original_title                                           overview  \\\n",
       "2004        Haywire  Mallory Kane is a highly trained operative who...   \n",
       "3735          Cargo  The story of CARGO takes place on rusty space-...   \n",
       "535    First Knight  The timeless tale of King Arthur and the legen...   \n",
       "\n",
       "      popularity                               production_companies  ...  \\\n",
       "2004   26.257951  [{\"name\": \"Irish Film Board\", \"id\": 5267}, {\"n...  ...   \n",
       "3735   10.142218  [{\"name\": \"Telepool\", \"id\": 823}, {\"name\": \"At...  ...   \n",
       "535    19.143321  [{\"name\": \"Columbia Pictures Corporation\", \"id...  ...   \n",
       "\n",
       "     runtime                                   spoken_languages    status  \\\n",
       "2004    93.0  [{\"iso_639_1\": \"en\", \"name\": \"English\"}, {\"iso...  Released   \n",
       "3735   120.0  [{\"iso_639_1\": \"fr\", \"name\": \"Fran\\u00e7ais\"},...  Released   \n",
       "535    134.0  [{\"iso_639_1\": \"en\", \"name\": \"English\"}, {\"iso...  Released   \n",
       "\n",
       "                                           tagline         title vote_average  \\\n",
       "2004                      They left her no choice.       Haywire          5.6   \n",
       "3735                                           NaN         Cargo          5.9   \n",
       "535   Their greatest battle would be for her love.  First Knight          5.9   \n",
       "\n",
       "     vote_count movie_id                                               cast  \\\n",
       "2004        505    70435  [{\"cast_id\": 6, \"character\": \"Mallory Kane\", \"...   \n",
       "3735        140    34069  [{\"cast_id\": 4, \"character\": \"Samuel Decker\", ...   \n",
       "535         311     6520  [{\"cast_id\": 1, \"character\": \"King Arthur\", \"c...   \n",
       "\n",
       "                                                   crew  \n",
       "2004  [{\"credit_id\": \"52fe47f8c3a368484e0e32c5\", \"de...  \n",
       "3735  [{\"credit_id\": \"52fe454f9251416c9102e051\", \"de...  \n",
       "535   [{\"credit_id\": \"52fe4458c3a36847f8090709\", \"de...  \n",
       "\n",
       "[3 rows x 23 columns]"
      ]
     },
     "execution_count": 110,
     "metadata": {},
     "output_type": "execute_result"
    }
   ],
   "source": [
    "movies =movies_df.merge(credits_df,on=\"title\")\n",
    "movies.sample(3)"
   ]
  },
  {
   "cell_type": "code",
   "execution_count": 114,
   "id": "d4036af6",
   "metadata": {},
   "outputs": [
    {
     "name": "stderr",
     "output_type": "stream",
     "text": [
      "C:\\Users\\Ankit Chaudhary\\AppData\\Local\\Temp\\ipykernel_5272\\3742491105.py:1: UserWarning: Boolean Series key will be reindexed to match DataFrame index.\n",
      "  movies[movies.popularity.sort_values(ascending=False) > 434]['original_title']\n"
     ]
    },
    {
     "data": {
      "text/plain": [
       "94     Guardians of the Galaxy\n",
       "95                Interstellar\n",
       "127         Mad Max: Fury Road\n",
       "546                    Minions\n",
       "788                   Deadpool\n",
       "Name: original_title, dtype: object"
      ]
     },
     "execution_count": 114,
     "metadata": {},
     "output_type": "execute_result"
    }
   ],
   "source": [
    "movies[movies.popularity.sort_values(ascending=False) > 434]['original_title']"
   ]
  },
  {
   "cell_type": "code",
   "execution_count": 115,
   "id": "c452418a",
   "metadata": {},
   "outputs": [],
   "source": []
  },
  {
   "cell_type": "markdown",
   "id": "7b8eb490",
   "metadata": {},
   "source": [
    "# important colum for project\n",
    "#genre\n",
    "#keywords\n",
    "#overview\n",
    "#title\n",
    "#cast\n",
    "#crew"
   ]
  },
  {
   "cell_type": "code",
   "execution_count": 80,
   "id": "228d854b",
   "metadata": {},
   "outputs": [
    {
     "data": {
      "text/html": [
       "<div>\n",
       "<style scoped>\n",
       "    .dataframe tbody tr th:only-of-type {\n",
       "        vertical-align: middle;\n",
       "    }\n",
       "\n",
       "    .dataframe tbody tr th {\n",
       "        vertical-align: top;\n",
       "    }\n",
       "\n",
       "    .dataframe thead th {\n",
       "        text-align: right;\n",
       "    }\n",
       "</style>\n",
       "<table border=\"1\" class=\"dataframe\">\n",
       "  <thead>\n",
       "    <tr style=\"text-align: right;\">\n",
       "      <th></th>\n",
       "      <th>id</th>\n",
       "      <th>title</th>\n",
       "      <th>genres</th>\n",
       "      <th>overview</th>\n",
       "      <th>keywords</th>\n",
       "      <th>cast</th>\n",
       "      <th>crew</th>\n",
       "    </tr>\n",
       "  </thead>\n",
       "  <tbody>\n",
       "    <tr>\n",
       "      <th>40</th>\n",
       "      <td>49013</td>\n",
       "      <td>Cars 2</td>\n",
       "      <td>[{\"id\": 16, \"name\": \"Animation\"}, {\"id\": 10751...</td>\n",
       "      <td>Star race car Lightning McQueen and his pal Ma...</td>\n",
       "      <td>[{\"id\": 830, \"name\": \"car race\"}, {\"id\": 9663,...</td>\n",
       "      <td>[{\"cast_id\": 4, \"character\": \"Lightning McQuee...</td>\n",
       "      <td>[{\"credit_id\": \"52fe477fc3a36847f8139271\", \"de...</td>\n",
       "    </tr>\n",
       "    <tr>\n",
       "      <th>320</th>\n",
       "      <td>855</td>\n",
       "      <td>Black Hawk Down</td>\n",
       "      <td>[{\"id\": 28, \"name\": \"Action\"}, {\"id\": 36, \"nam...</td>\n",
       "      <td>When U.S. Rangers and an elite Delta Force tea...</td>\n",
       "      <td>[{\"id\": 1968, \"name\": \"prisoners of war\"}, {\"i...</td>\n",
       "      <td>[{\"cast_id\": 20, \"character\": \"SSgt. Matt Ever...</td>\n",
       "      <td>[{\"credit_id\": \"52fe4282c3a36847f8024871\", \"de...</td>\n",
       "    </tr>\n",
       "    <tr>\n",
       "      <th>4447</th>\n",
       "      <td>3170</td>\n",
       "      <td>Bambi</td>\n",
       "      <td>[{\"id\": 16, \"name\": \"Animation\"}, {\"id\": 18, \"...</td>\n",
       "      <td>Bambi's tale unfolds from season to season as ...</td>\n",
       "      <td>[{\"id\": 5774, \"name\": \"forest\"}, {\"id\": 10683,...</td>\n",
       "      <td>[{\"cast_id\": 9, \"character\": \"Young Bambi (voi...</td>\n",
       "      <td>[{\"credit_id\": \"52fe438cc3a36847f805ca73\", \"de...</td>\n",
       "    </tr>\n",
       "  </tbody>\n",
       "</table>\n",
       "</div>"
      ],
      "text/plain": [
       "         id            title  \\\n",
       "40    49013           Cars 2   \n",
       "320     855  Black Hawk Down   \n",
       "4447   3170            Bambi   \n",
       "\n",
       "                                                 genres  \\\n",
       "40    [{\"id\": 16, \"name\": \"Animation\"}, {\"id\": 10751...   \n",
       "320   [{\"id\": 28, \"name\": \"Action\"}, {\"id\": 36, \"nam...   \n",
       "4447  [{\"id\": 16, \"name\": \"Animation\"}, {\"id\": 18, \"...   \n",
       "\n",
       "                                               overview  \\\n",
       "40    Star race car Lightning McQueen and his pal Ma...   \n",
       "320   When U.S. Rangers and an elite Delta Force tea...   \n",
       "4447  Bambi's tale unfolds from season to season as ...   \n",
       "\n",
       "                                               keywords  \\\n",
       "40    [{\"id\": 830, \"name\": \"car race\"}, {\"id\": 9663,...   \n",
       "320   [{\"id\": 1968, \"name\": \"prisoners of war\"}, {\"i...   \n",
       "4447  [{\"id\": 5774, \"name\": \"forest\"}, {\"id\": 10683,...   \n",
       "\n",
       "                                                   cast  \\\n",
       "40    [{\"cast_id\": 4, \"character\": \"Lightning McQuee...   \n",
       "320   [{\"cast_id\": 20, \"character\": \"SSgt. Matt Ever...   \n",
       "4447  [{\"cast_id\": 9, \"character\": \"Young Bambi (voi...   \n",
       "\n",
       "                                                   crew  \n",
       "40    [{\"credit_id\": \"52fe477fc3a36847f8139271\", \"de...  \n",
       "320   [{\"credit_id\": \"52fe4282c3a36847f8024871\", \"de...  \n",
       "4447  [{\"credit_id\": \"52fe438cc3a36847f805ca73\", \"de...  "
      ]
     },
     "execution_count": 80,
     "metadata": {},
     "output_type": "execute_result"
    }
   ],
   "source": [
    "movies = movies[['id','title','genres','overview','keywords','cast','crew']]\n",
    "movies.sample(3)"
   ]
  },
  {
   "cell_type": "code",
   "execution_count": null,
   "id": "954e29e7",
   "metadata": {},
   "outputs": [],
   "source": []
  },
  {
   "cell_type": "code",
   "execution_count": 81,
   "id": "9028a840",
   "metadata": {},
   "outputs": [],
   "source": [
    "import ast\n",
    "def converter(obj):\n",
    "    l=[]\n",
    "    for i in ast.literal_eval(obj):\n",
    "        l.append(i['name'])\n",
    "    return l      "
   ]
  },
  {
   "cell_type": "code",
   "execution_count": 82,
   "id": "7f3dea9d",
   "metadata": {
    "scrolled": true
   },
   "outputs": [],
   "source": [
    "movies['genres'] = movies.genres.apply(converter)"
   ]
  },
  {
   "cell_type": "code",
   "execution_count": 83,
   "id": "dd0bfa40",
   "metadata": {},
   "outputs": [],
   "source": [
    "movies['keywords'] = movies.keywords.apply(converter)"
   ]
  },
  {
   "cell_type": "code",
   "execution_count": 84,
   "id": "fc745160",
   "metadata": {},
   "outputs": [
    {
     "data": {
      "text/html": [
       "<div>\n",
       "<style scoped>\n",
       "    .dataframe tbody tr th:only-of-type {\n",
       "        vertical-align: middle;\n",
       "    }\n",
       "\n",
       "    .dataframe tbody tr th {\n",
       "        vertical-align: top;\n",
       "    }\n",
       "\n",
       "    .dataframe thead th {\n",
       "        text-align: right;\n",
       "    }\n",
       "</style>\n",
       "<table border=\"1\" class=\"dataframe\">\n",
       "  <thead>\n",
       "    <tr style=\"text-align: right;\">\n",
       "      <th></th>\n",
       "      <th>id</th>\n",
       "      <th>title</th>\n",
       "      <th>genres</th>\n",
       "      <th>overview</th>\n",
       "      <th>keywords</th>\n",
       "      <th>cast</th>\n",
       "      <th>crew</th>\n",
       "    </tr>\n",
       "  </thead>\n",
       "  <tbody>\n",
       "    <tr>\n",
       "      <th>4017</th>\n",
       "      <td>1687</td>\n",
       "      <td>Escape from the Planet of the Apes</td>\n",
       "      <td>[Action, Science Fiction]</td>\n",
       "      <td>The world is shocked by the appearance of two ...</td>\n",
       "      <td>[spacecraft, pacifism, human being, cage, dyst...</td>\n",
       "      <td>[{\"cast_id\": 1, \"character\": \"Cornelius\", \"cre...</td>\n",
       "      <td>[{\"credit_id\": \"52fe430cc3a36847f803689b\", \"de...</td>\n",
       "    </tr>\n",
       "    <tr>\n",
       "      <th>2150</th>\n",
       "      <td>243</td>\n",
       "      <td>High Fidelity</td>\n",
       "      <td>[Comedy, Drama, Romance, Music]</td>\n",
       "      <td>When record store owner Rob Gordon gets dumped...</td>\n",
       "      <td>[chicago, music record, rock and roll, record ...</td>\n",
       "      <td>[{\"cast_id\": 7, \"character\": \"Rob Gordon\", \"cr...</td>\n",
       "      <td>[{\"credit_id\": \"52fe422cc3a36847f8009919\", \"de...</td>\n",
       "    </tr>\n",
       "    <tr>\n",
       "      <th>4695</th>\n",
       "      <td>37985</td>\n",
       "      <td>The Trials Of Darryl Hunt</td>\n",
       "      <td>[Documentary]</td>\n",
       "      <td>\"The Trials of Darryl Hunt\" is a feature docum...</td>\n",
       "      <td>[woman director]</td>\n",
       "      <td>[]</td>\n",
       "      <td>[{\"credit_id\": \"57b638a4c3a3685f5a000562\", \"de...</td>\n",
       "    </tr>\n",
       "  </tbody>\n",
       "</table>\n",
       "</div>"
      ],
      "text/plain": [
       "         id                               title  \\\n",
       "4017   1687  Escape from the Planet of the Apes   \n",
       "2150    243                       High Fidelity   \n",
       "4695  37985           The Trials Of Darryl Hunt   \n",
       "\n",
       "                               genres  \\\n",
       "4017        [Action, Science Fiction]   \n",
       "2150  [Comedy, Drama, Romance, Music]   \n",
       "4695                    [Documentary]   \n",
       "\n",
       "                                               overview  \\\n",
       "4017  The world is shocked by the appearance of two ...   \n",
       "2150  When record store owner Rob Gordon gets dumped...   \n",
       "4695  \"The Trials of Darryl Hunt\" is a feature docum...   \n",
       "\n",
       "                                               keywords  \\\n",
       "4017  [spacecraft, pacifism, human being, cage, dyst...   \n",
       "2150  [chicago, music record, rock and roll, record ...   \n",
       "4695                                   [woman director]   \n",
       "\n",
       "                                                   cast  \\\n",
       "4017  [{\"cast_id\": 1, \"character\": \"Cornelius\", \"cre...   \n",
       "2150  [{\"cast_id\": 7, \"character\": \"Rob Gordon\", \"cr...   \n",
       "4695                                                 []   \n",
       "\n",
       "                                                   crew  \n",
       "4017  [{\"credit_id\": \"52fe430cc3a36847f803689b\", \"de...  \n",
       "2150  [{\"credit_id\": \"52fe422cc3a36847f8009919\", \"de...  \n",
       "4695  [{\"credit_id\": \"57b638a4c3a3685f5a000562\", \"de...  "
      ]
     },
     "execution_count": 84,
     "metadata": {},
     "output_type": "execute_result"
    }
   ],
   "source": [
    "movies.sample(3)"
   ]
  },
  {
   "cell_type": "code",
   "execution_count": 85,
   "id": "ca5ee5a8",
   "metadata": {},
   "outputs": [],
   "source": [
    "\n",
    "\n",
    "def cast(obj):\n",
    "    l=[]\n",
    "    for x ,i in enumerate(ast.literal_eval(obj)):\n",
    "        l.append(i['name'])\n",
    "        if x==2:\n",
    "            break\n",
    "    return l\n",
    "    "
   ]
  },
  {
   "cell_type": "code",
   "execution_count": 86,
   "id": "b2cf0362",
   "metadata": {},
   "outputs": [],
   "source": [
    "movies['cast'] = movies.cast.apply(cast)\n"
   ]
  },
  {
   "cell_type": "code",
   "execution_count": 87,
   "id": "9bd0933b",
   "metadata": {},
   "outputs": [],
   "source": [
    "\n",
    "def director(di):\n",
    "    l=[]\n",
    "    for i in ast.literal_eval(di):\n",
    "        if i['job']=='Director':\n",
    "            l.append(i['name'])\n",
    "    return l"
   ]
  },
  {
   "cell_type": "code",
   "execution_count": 88,
   "id": "b5b77a7f",
   "metadata": {},
   "outputs": [],
   "source": [
    "movies['crew'] = movies['crew'].apply(director)"
   ]
  },
  {
   "cell_type": "code",
   "execution_count": 89,
   "id": "4d326aae",
   "metadata": {},
   "outputs": [],
   "source": [
    "movies.rename(columns={'cast':'Actors','crew':'Director'}, inplace=True)\n"
   ]
  },
  {
   "cell_type": "code",
   "execution_count": 90,
   "id": "797591a0",
   "metadata": {},
   "outputs": [],
   "source": [
    "movies.dropna(inplace=True)"
   ]
  },
  {
   "cell_type": "code",
   "execution_count": 91,
   "id": "af45ae9b",
   "metadata": {},
   "outputs": [],
   "source": [
    "movies['genres'] = movies['genres'].apply(lambda x:[i.replace(' ','') for  i in x])\n",
    "movies['keywords'] = movies['keywords'].apply(lambda x:[i.replace(' ','') for  i in x])\n",
    "movies['Actors'] = movies['Actors'].apply(lambda x:[i.replace(' ','') for  i in x])\n",
    "movies['Director'] = movies['Director'].apply(lambda x:[i.replace(' ','') for  i in x])"
   ]
  },
  {
   "cell_type": "code",
   "execution_count": 92,
   "id": "230de80d",
   "metadata": {},
   "outputs": [
    {
     "data": {
      "text/html": [
       "<div>\n",
       "<style scoped>\n",
       "    .dataframe tbody tr th:only-of-type {\n",
       "        vertical-align: middle;\n",
       "    }\n",
       "\n",
       "    .dataframe tbody tr th {\n",
       "        vertical-align: top;\n",
       "    }\n",
       "\n",
       "    .dataframe thead th {\n",
       "        text-align: right;\n",
       "    }\n",
       "</style>\n",
       "<table border=\"1\" class=\"dataframe\">\n",
       "  <thead>\n",
       "    <tr style=\"text-align: right;\">\n",
       "      <th></th>\n",
       "      <th>id</th>\n",
       "      <th>title</th>\n",
       "      <th>genres</th>\n",
       "      <th>overview</th>\n",
       "      <th>keywords</th>\n",
       "      <th>Actors</th>\n",
       "      <th>Director</th>\n",
       "    </tr>\n",
       "  </thead>\n",
       "  <tbody>\n",
       "    <tr>\n",
       "      <th>4249</th>\n",
       "      <td>72913</td>\n",
       "      <td>Amigo</td>\n",
       "      <td>[Drama, History, War]</td>\n",
       "      <td>Rafael, a village mayor caught in the murderou...</td>\n",
       "      <td>[ambush, rebel, rain, village, arrest, friends...</td>\n",
       "      <td>[ChrisCooper, DJQualls, GarretDillahunt]</td>\n",
       "      <td>[JohnSayles]</td>\n",
       "    </tr>\n",
       "    <tr>\n",
       "      <th>651</th>\n",
       "      <td>196867</td>\n",
       "      <td>Annie</td>\n",
       "      <td>[Comedy, Drama, Family]</td>\n",
       "      <td>Ever since her parents left her as a baby, lit...</td>\n",
       "      <td>[musical, orphan, fosterchild]</td>\n",
       "      <td>[QuvenzhanéWallis, JamieFoxx, RoseByrne]</td>\n",
       "      <td>[WillGluck]</td>\n",
       "    </tr>\n",
       "  </tbody>\n",
       "</table>\n",
       "</div>"
      ],
      "text/plain": [
       "          id  title                   genres  \\\n",
       "4249   72913  Amigo    [Drama, History, War]   \n",
       "651   196867  Annie  [Comedy, Drama, Family]   \n",
       "\n",
       "                                               overview  \\\n",
       "4249  Rafael, a village mayor caught in the murderou...   \n",
       "651   Ever since her parents left her as a baby, lit...   \n",
       "\n",
       "                                               keywords  \\\n",
       "4249  [ambush, rebel, rain, village, arrest, friends...   \n",
       "651                      [musical, orphan, fosterchild]   \n",
       "\n",
       "                                        Actors      Director  \n",
       "4249  [ChrisCooper, DJQualls, GarretDillahunt]  [JohnSayles]  \n",
       "651   [QuvenzhanéWallis, JamieFoxx, RoseByrne]   [WillGluck]  "
      ]
     },
     "execution_count": 92,
     "metadata": {},
     "output_type": "execute_result"
    }
   ],
   "source": [
    "movies.sample(2)"
   ]
  },
  {
   "cell_type": "code",
   "execution_count": 93,
   "id": "e47e36e2",
   "metadata": {},
   "outputs": [],
   "source": [
    "movies['overview'] = movies['overview'].apply(lambda x: x.split())"
   ]
  },
  {
   "cell_type": "code",
   "execution_count": 94,
   "id": "b974e271",
   "metadata": {},
   "outputs": [
    {
     "data": {
      "text/html": [
       "<div>\n",
       "<style scoped>\n",
       "    .dataframe tbody tr th:only-of-type {\n",
       "        vertical-align: middle;\n",
       "    }\n",
       "\n",
       "    .dataframe tbody tr th {\n",
       "        vertical-align: top;\n",
       "    }\n",
       "\n",
       "    .dataframe thead th {\n",
       "        text-align: right;\n",
       "    }\n",
       "</style>\n",
       "<table border=\"1\" class=\"dataframe\">\n",
       "  <thead>\n",
       "    <tr style=\"text-align: right;\">\n",
       "      <th></th>\n",
       "      <th>id</th>\n",
       "      <th>title</th>\n",
       "      <th>genres</th>\n",
       "      <th>overview</th>\n",
       "      <th>keywords</th>\n",
       "      <th>Actors</th>\n",
       "      <th>Director</th>\n",
       "    </tr>\n",
       "  </thead>\n",
       "  <tbody>\n",
       "    <tr>\n",
       "      <th>1894</th>\n",
       "      <td>34813</td>\n",
       "      <td>The Losers</td>\n",
       "      <td>[Action, Adventure, Crime, Mystery, Thriller]</td>\n",
       "      <td>[A, tale, of, double, cross, and, revenge,, ce...</td>\n",
       "      <td>[hospital, blackops, referencetomacgyver, suck...</td>\n",
       "      <td>[JeffreyDeanMorgan, ZoeSaldana, ChrisEvans]</td>\n",
       "      <td>[SylvainWhite]</td>\n",
       "    </tr>\n",
       "  </tbody>\n",
       "</table>\n",
       "</div>"
      ],
      "text/plain": [
       "         id       title                                         genres  \\\n",
       "1894  34813  The Losers  [Action, Adventure, Crime, Mystery, Thriller]   \n",
       "\n",
       "                                               overview  \\\n",
       "1894  [A, tale, of, double, cross, and, revenge,, ce...   \n",
       "\n",
       "                                               keywords  \\\n",
       "1894  [hospital, blackops, referencetomacgyver, suck...   \n",
       "\n",
       "                                           Actors        Director  \n",
       "1894  [JeffreyDeanMorgan, ZoeSaldana, ChrisEvans]  [SylvainWhite]  "
      ]
     },
     "execution_count": 94,
     "metadata": {},
     "output_type": "execute_result"
    }
   ],
   "source": [
    "movies.sample()"
   ]
  },
  {
   "cell_type": "code",
   "execution_count": 95,
   "id": "596d8d3e",
   "metadata": {},
   "outputs": [],
   "source": [
    "movies['tags'] = movies['genres'] + movies['keywords']+ movies['Actors'] + movies['Director']+movies['overview']"
   ]
  },
  {
   "cell_type": "code",
   "execution_count": 96,
   "id": "529d3950",
   "metadata": {},
   "outputs": [
    {
     "data": {
      "text/html": [
       "<div>\n",
       "<style scoped>\n",
       "    .dataframe tbody tr th:only-of-type {\n",
       "        vertical-align: middle;\n",
       "    }\n",
       "\n",
       "    .dataframe tbody tr th {\n",
       "        vertical-align: top;\n",
       "    }\n",
       "\n",
       "    .dataframe thead th {\n",
       "        text-align: right;\n",
       "    }\n",
       "</style>\n",
       "<table border=\"1\" class=\"dataframe\">\n",
       "  <thead>\n",
       "    <tr style=\"text-align: right;\">\n",
       "      <th></th>\n",
       "      <th>id</th>\n",
       "      <th>title</th>\n",
       "      <th>tags</th>\n",
       "    </tr>\n",
       "  </thead>\n",
       "  <tbody>\n",
       "    <tr>\n",
       "      <th>0</th>\n",
       "      <td>19995</td>\n",
       "      <td>Avatar</td>\n",
       "      <td>[Action, Adventure, Fantasy, ScienceFiction, c...</td>\n",
       "    </tr>\n",
       "    <tr>\n",
       "      <th>1</th>\n",
       "      <td>285</td>\n",
       "      <td>Pirates of the Caribbean: At World's End</td>\n",
       "      <td>[Adventure, Fantasy, Action, ocean, drugabuse,...</td>\n",
       "    </tr>\n",
       "    <tr>\n",
       "      <th>2</th>\n",
       "      <td>206647</td>\n",
       "      <td>Spectre</td>\n",
       "      <td>[Action, Adventure, Crime, spy, basedonnovel, ...</td>\n",
       "    </tr>\n",
       "    <tr>\n",
       "      <th>3</th>\n",
       "      <td>49026</td>\n",
       "      <td>The Dark Knight Rises</td>\n",
       "      <td>[Action, Crime, Drama, Thriller, dccomics, cri...</td>\n",
       "    </tr>\n",
       "    <tr>\n",
       "      <th>4</th>\n",
       "      <td>49529</td>\n",
       "      <td>John Carter</td>\n",
       "      <td>[Action, Adventure, ScienceFiction, basedonnov...</td>\n",
       "    </tr>\n",
       "  </tbody>\n",
       "</table>\n",
       "</div>"
      ],
      "text/plain": [
       "       id                                     title  \\\n",
       "0   19995                                    Avatar   \n",
       "1     285  Pirates of the Caribbean: At World's End   \n",
       "2  206647                                   Spectre   \n",
       "3   49026                     The Dark Knight Rises   \n",
       "4   49529                               John Carter   \n",
       "\n",
       "                                                tags  \n",
       "0  [Action, Adventure, Fantasy, ScienceFiction, c...  \n",
       "1  [Adventure, Fantasy, Action, ocean, drugabuse,...  \n",
       "2  [Action, Adventure, Crime, spy, basedonnovel, ...  \n",
       "3  [Action, Crime, Drama, Thriller, dccomics, cri...  \n",
       "4  [Action, Adventure, ScienceFiction, basedonnov...  "
      ]
     },
     "execution_count": 96,
     "metadata": {},
     "output_type": "execute_result"
    }
   ],
   "source": [
    "ndf = movies[['id','title','tags']]\n",
    "ndf.head()"
   ]
  },
  {
   "cell_type": "code",
   "execution_count": 97,
   "id": "7310d5e3",
   "metadata": {},
   "outputs": [
    {
     "name": "stderr",
     "output_type": "stream",
     "text": [
      "C:\\Users\\Ankit Chaudhary\\AppData\\Local\\Temp\\ipykernel_5272\\1756415255.py:1: SettingWithCopyWarning: \n",
      "A value is trying to be set on a copy of a slice from a DataFrame.\n",
      "Try using .loc[row_indexer,col_indexer] = value instead\n",
      "\n",
      "See the caveats in the documentation: https://pandas.pydata.org/pandas-docs/stable/user_guide/indexing.html#returning-a-view-versus-a-copy\n",
      "  ndf['tags'] = ndf.tags.apply(lambda x: \" \".join(x)).str.lower()\n"
     ]
    }
   ],
   "source": [
    "ndf['tags'] = ndf.tags.apply(lambda x: \" \".join(x)).str.lower()"
   ]
  },
  {
   "cell_type": "code",
   "execution_count": 98,
   "id": "e82ac8f1",
   "metadata": {},
   "outputs": [
    {
     "name": "stderr",
     "output_type": "stream",
     "text": [
      "C:\\Users\\Ankit Chaudhary\\AppData\\Local\\Temp\\ipykernel_5272\\4084109357.py:1: SettingWithCopyWarning: \n",
      "A value is trying to be set on a copy of a slice from a DataFrame.\n",
      "Try using .loc[row_indexer,col_indexer] = value instead\n",
      "\n",
      "See the caveats in the documentation: https://pandas.pydata.org/pandas-docs/stable/user_guide/indexing.html#returning-a-view-versus-a-copy\n",
      "  ndf.title = ndf.title.str.lower()\n"
     ]
    }
   ],
   "source": [
    "ndf.title = ndf.title.str.lower()"
   ]
  },
  {
   "cell_type": "code",
   "execution_count": 99,
   "id": "92ecfbfb",
   "metadata": {},
   "outputs": [],
   "source": [
    "ndf.to_csv(\"cleaned.csv\")"
   ]
  },
  {
   "cell_type": "code",
   "execution_count": 100,
   "id": "c241a70f",
   "metadata": {},
   "outputs": [],
   "source": [
    "def recommend(movie):\n",
    "    try:\n",
    "        movie = movie.lower()\n",
    "        movie_index = ndf[ndf['title'] == movie].index[0]\n",
    "        distances = similarity[movie_index]\n",
    "        top_5 = sorted(list(enumerate(distances)),reverse=True,key=lambda x: x[1])[1:6]\n",
    "\n",
    "        return top_5    \n",
    "    except:\n",
    "        print('movie not found')"
   ]
  },
  {
   "cell_type": "code",
   "execution_count": 101,
   "id": "922dbf64",
   "metadata": {},
   "outputs": [],
   "source": [
    "from sklearn.metrics.pairwise import cosine_similarity\n",
    "from sklearn.feature_extraction.text import CountVectorizer"
   ]
  },
  {
   "cell_type": "code",
   "execution_count": 102,
   "id": "74a12166",
   "metadata": {},
   "outputs": [],
   "source": [
    "ndf = pd.read_csv(r\"C:\\Users\\Ankit Chaudhary\\OneDrive\\Desktop\\movies Recommend\\cleaned.csv\")\n"
   ]
  },
  {
   "cell_type": "code",
   "execution_count": 103,
   "id": "dce8ae17",
   "metadata": {},
   "outputs": [],
   "source": [
    "cv = CountVectorizer(max_features=15000,stop_words='english')\n",
    "vectors = cv.fit_transform(ndf['tags']).toarray()\n",
    "similarity = cosine_similarity(vectors)"
   ]
  },
  {
   "cell_type": "code",
   "execution_count": 104,
   "id": "0a3fcef3",
   "metadata": {},
   "outputs": [],
   "source": [
    "pd.DataFrame(similarity).to_csv('similarity')"
   ]
  },
  {
   "cell_type": "code",
   "execution_count": null,
   "id": "7a4a83f7",
   "metadata": {},
   "outputs": [],
   "source": []
  },
  {
   "cell_type": "code",
   "execution_count": 106,
   "id": "205ee34e",
   "metadata": {},
   "outputs": [
    {
     "name": "stdout",
     "output_type": "stream",
     "text": [
      "[(65, np.float64(0.3862436396682139)), (119, np.float64(0.3106303720986977)), (428, np.float64(0.3085764665956836)), (1361, np.float64(0.291937104060571)), (299, np.float64(0.2808218263205453))]\n",
      "the dark knight\n",
      "batman begins\n",
      "batman returns\n",
      "batman\n",
      "batman forever\n"
     ]
    }
   ],
   "source": [
    "similarity1 = pd.read_csv('similarity' ,index_col=0)\n",
    "similarity1 = similarity1.to_numpy()\n",
    "\n",
    "#####################\n",
    "\n",
    "def recommend(movie):\n",
    "    try:\n",
    "        movie = movie.lower()\n",
    "        movie_index = ndf[ndf['title'] == movie].index[0]\n",
    "        distances = similarity1[movie_index]\n",
    "        top_5 = sorted(list(enumerate(distances)),reverse=True,key=lambda x: x[1])[1:6]\n",
    "        print(top_5)\n",
    "        for i , j in top_5:\n",
    "            print(ndf.iloc[i].title)\n",
    "    except:\n",
    "        print(\"given movies is not in list\")\n",
    "        \n",
    "recommend('The Dark Knight Rises')"
   ]
  }
 ],
 "metadata": {
  "kernelspec": {
   "display_name": "Python 3 (ipykernel)",
   "language": "python",
   "name": "python3"
  },
  "language_info": {
   "codemirror_mode": {
    "name": "ipython",
    "version": 3
   },
   "file_extension": ".py",
   "mimetype": "text/x-python",
   "name": "python",
   "nbconvert_exporter": "python",
   "pygments_lexer": "ipython3",
   "version": "3.12.4"
  }
 },
 "nbformat": 4,
 "nbformat_minor": 5
}
